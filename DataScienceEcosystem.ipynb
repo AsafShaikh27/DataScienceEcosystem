{
 "cells": [
  {
   "cell_type": "markdown",
   "id": "86e86171",
   "metadata": {},
   "source": [
    "# Data Science Tools and Ecosystem"
   ]
  },
  {
   "cell_type": "markdown",
   "id": "847f22f8",
   "metadata": {},
   "source": [
    "In this notebook, Data Science Tools and Ecosystem are summarized."
   ]
  },
  {
   "cell_type": "markdown",
   "id": "61b2d4b3",
   "metadata": {},
   "source": [
    "Some of the popular languages that Data Scientists use are:\n",
    "1. Python\n",
    "2. R\n",
    "3. Sql\n",
    "4. Java \n",
    "5. Julia"
   ]
  },
  {
   "cell_type": "markdown",
   "id": "3981ea42",
   "metadata": {},
   "source": [
    "Some of the commonly used libraries used by Data Scientists include:\n",
    "1. Pandas\n",
    "2. Matplotlib\n",
    "3. Numpy\n",
    "4. Scipy\n",
    "5. Scikit-learn"
   ]
  },
  {
   "cell_type": "markdown",
   "id": "17b9b758",
   "metadata": {},
   "source": [
    "# Data Science Tools\n",
    "\n",
    "|Data Science Tools|\n",
    "|-|\n",
    "|Statistical Analysis System(SAS)|\n",
    "|Apache Hadoop|\n",
    "|Tablue|\n",
    "|Tensorflow|"
   ]
  },
  {
   "cell_type": "markdown",
   "id": "9e0de860",
   "metadata": {},
   "source": [
    "### Below are a few examples of evaluating arithmetic expressions in Python:"
   ]
  },
  {
   "cell_type": "markdown",
   "id": "5ac94395",
   "metadata": {},
   "source": [
    "### -Addition"
   ]
  },
  {
   "cell_type": "code",
   "execution_count": 15,
   "id": "f529a26f",
   "metadata": {},
   "outputs": [
    {
     "data": {
      "text/plain": [
       "6"
      ]
     },
     "execution_count": 15,
     "metadata": {},
     "output_type": "execute_result"
    }
   ],
   "source": [
    "4+2"
   ]
  },
  {
   "cell_type": "markdown",
   "id": "a2adcdea",
   "metadata": {},
   "source": [
    "### -Subtraction"
   ]
  },
  {
   "cell_type": "code",
   "execution_count": 16,
   "id": "54290e1b",
   "metadata": {},
   "outputs": [
    {
     "data": {
      "text/plain": [
       "2"
      ]
     },
     "execution_count": 16,
     "metadata": {},
     "output_type": "execute_result"
    }
   ],
   "source": [
    "4-2"
   ]
  },
  {
   "cell_type": "markdown",
   "id": "c8ecd395",
   "metadata": {},
   "source": [
    "### -Multiplication"
   ]
  },
  {
   "cell_type": "code",
   "execution_count": 17,
   "id": "ad2b45b5",
   "metadata": {},
   "outputs": [
    {
     "data": {
      "text/plain": [
       "8"
      ]
     },
     "execution_count": 17,
     "metadata": {},
     "output_type": "execute_result"
    }
   ],
   "source": [
    "4*2"
   ]
  },
  {
   "cell_type": "markdown",
   "id": "e0c428cd",
   "metadata": {},
   "source": [
    "### -Division"
   ]
  },
  {
   "cell_type": "code",
   "execution_count": 18,
   "id": "f6906923",
   "metadata": {},
   "outputs": [
    {
     "data": {
      "text/plain": [
       "2.0"
      ]
     },
     "execution_count": 18,
     "metadata": {},
     "output_type": "execute_result"
    }
   ],
   "source": [
    "4/2"
   ]
  },
  {
   "cell_type": "code",
   "execution_count": 35,
   "id": "68abff15",
   "metadata": {},
   "outputs": [
    {
     "data": {
      "text/plain": [
       "17"
      ]
     },
     "execution_count": 35,
     "metadata": {},
     "output_type": "execute_result"
    }
   ],
   "source": [
    "#This a simple arithmetic expression to mutiply then add integers\n",
    "\n",
    "a=3\n",
    "b=4\n",
    "c=5\n",
    "(a*b)+c"
   ]
  },
  {
   "cell_type": "code",
   "execution_count": 41,
   "id": "d87a2fec",
   "metadata": {},
   "outputs": [
    {
     "name": "stdout",
     "output_type": "stream",
     "text": [
      "Hour= 3.3333333333333335\n"
     ]
    }
   ],
   "source": [
    "#This will convert 200 minutes to hours by diving by 60\n",
    "\n",
    "a=200\n",
    "\n",
    "print(\"Hour=\",a/60)"
   ]
  },
  {
   "cell_type": "markdown",
   "id": "125bd8b9",
   "metadata": {},
   "source": [
    "# __Objectives:__\n",
    "\n"
   ]
  },
  {
   "cell_type": "markdown",
   "id": "1b8c0c1f",
   "metadata": {},
   "source": [
    "- Python is one of the most languages that is used in data science,it is an open source language and very easy to use and understand.\n",
    "- R is also a very popular language in the field of data science, it mainly focus on stats and mathematical problems or to create graphs,plots or charts.\n",
    "- SQL is a domain specific language that allows programmers to communicate with,edit and extracts from databases.\n",
    "- Java is one of the most popular programming languages in the world, it is an open source object oriented programming language known for its first class performance and efficiency. "
   ]
  },
  {
   "cell_type": "markdown",
   "id": "f9ad6032",
   "metadata": {},
   "source": [
    "## Author\n",
    "Asaf Shaikh"
   ]
  },
  {
   "cell_type": "code",
   "execution_count": null,
   "id": "01fc6cb9",
   "metadata": {},
   "outputs": [],
   "source": []
  }
 ],
 "metadata": {
  "kernelspec": {
   "display_name": "Python 3 (ipykernel)",
   "language": "python",
   "name": "python3"
  },
  "language_info": {
   "codemirror_mode": {
    "name": "ipython",
    "version": 3
   },
   "file_extension": ".py",
   "mimetype": "text/x-python",
   "name": "python",
   "nbconvert_exporter": "python",
   "pygments_lexer": "ipython3",
   "version": "3.10.11"
  }
 },
 "nbformat": 4,
 "nbformat_minor": 5
}
